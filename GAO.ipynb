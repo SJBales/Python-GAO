{
 "cells": [
  {
   "cell_type": "code",
   "execution_count": 1,
   "metadata": {},
   "outputs": [],
   "source": [
    "from bs4 import BeautifulSoup\n",
    "import requests\n",
    "import pandas as pd\n",
    "import re"
   ]
  },
  {
   "cell_type": "code",
   "execution_count": 222,
   "metadata": {},
   "outputs": [],
   "source": [
    "# These are the new functions to work around poor extraction quality\n",
    "\n",
    "def decision_number_html_extractor(url):\n",
    "    # Extracts the HTML with the decision numbers\n",
    "    response = requests.get(url)\n",
    "    html = BeautifulSoup(response.text, \"html.parser\")\n",
    "    details = html.find_all(\"div\", class_=\"field field--name-field-product-number field--type-string field--label-hidden field__item\")\n",
    "    return(details)\n",
    "    \n",
    "def splitter(html_output, results):\n",
    "    # Splits the decision number out of the HTML\n",
    "    html_ouput = html_output\n",
    "    \n",
    "    for i in range(0, len(html_output)):\n",
    "        output_string = str(html_ouput[i])\n",
    "        step1 = output_string.split(\">\",1)[1]\n",
    "        step2 = step1.split(\"</div>\",1)[0]\n",
    "        results.append(step2)\n",
    "    \n",
    "    return(results)\n",
    "\n",
    "def new_url_generator(base_url, decision_no):\n",
    "    # Creates a new URL with decision numbers\n",
    "    new_list = str(decision_no).split(\",\")\n",
    "    addition = \"%2C\".join(new_list).lower()\n",
    "    new_url = base_url + addition\n",
    "    return(new_url)\n",
    "\n",
    "def highlight_extractor(x):\n",
    "    # Cleans up the highlight paragraph\n",
    "    new_string = str(x)\n",
    "    first_pass = new_string.split(\"<!--HTML--><html><body><p>\", 1)[1]\n",
    "    second_pass = first_pass.split(\"</p>\\n</body></html>\\n\", 1)[0]\n",
    "    return(second_pass)\n",
    "\n",
    "def general_splitter(x, patterns):\n",
    "    new_string = str(x)\n",
    "    first_pass = new_string.split(patterns[0], 1)[1]\n",
    "    second_pass = first_pass.split(patterns[1], 1)[0]\n",
    "    return(second_pass)\n",
    "\n",
    "def decision_extractor(x, potential_patterns, patterns):\n",
    "    if str(x).find(\"DECISION\") != -1:\n",
    "        for p in range(0, len(potential_patterns)):\n",
    "            if str(x).find(potential_patterns[p]) != -1:\n",
    "                patterns[0] = potential_patterns[p]\n",
    "        return(general_splitter(x, patterns))\n",
    "    else:\n",
    "        return(\"No Decision\")\n",
    "\n",
    "def highlight_extractor(x):\n",
    "    # Cleans up the highlight paragraph\n",
    "    new_string = str(x)\n",
    "    item_found = new_string.find(\"Highlights\", 1)\n",
    "    if item_found != -1:\n",
    "        first_pass = new_string.split(\"<html><body><p\", 1)[1]\n",
    "        second_pass = first_pass.split(\"</p>\\n</body></html>\", 1)[0]\n",
    "        return(second_pass)\n",
    "    elif item_found != -1:\n",
    "        first_pass = new_string.split(\"<html><body><div>\\n\\t\", 1)[1]\n",
    "        second_pass = first_pass.split(\"</div>\", 1)[0]\n",
    "        return(second_pass)\n",
    "    else:\n",
    "        return(\"No Highlights\")\n",
    "\n",
    "\n",
    "    \n",
    "def firm_name_extractor(x, patterns):\n",
    "    item_found = str(x).find(patterns[0], 1)\n",
    "    if item_found != -1:\n",
    "        return(general_splitter(x, patterns))\n",
    "    else:\n",
    "        return(\"Check this entry\")\n",
    "    \n",
    "def date_extractor(x, patterns):\n",
    "    item_found = str(x).find(patterns[0], 1)\n",
    "    if item_found != -1:\n",
    "        return(general_splitter(x, patterns))\n",
    "    elif item_found == \"The decision issued on the date below was subject to a GAO Protective Order.\":\n",
    "        return(\"The decision issued on the date below was subject to a GAO Protective Order.\")\n",
    "    else:\n",
    "        return(\"Check this entry\")\n",
    "    \n",
    "def status_extractor(x, patterns):\n",
    "    try:\n",
    "        return(general_splitter(x, patterns))\n",
    "    except:\n",
    "        return(\"Check this entry\")"
   ]
  },
  {
   "cell_type": "code",
   "execution_count": 3,
   "metadata": {},
   "outputs": [],
   "source": [
    "recursive_url = \"https://www.gao.gov/search?f%5B0%5D=content_type%3ABid%20Protest%20Decision&f%5B1%5D=date%3Astart%2B2000-01-01%2Bend%2B2020-01-01&sort_by=docdate&sort_order=DESC&keyword=&f%5B0%5D=content_type%3ABid%20Protest%20Decision&f%5B1%5D=date%3Astart%2B2000-01-01%2Bend%2B2020-01-01&page=\"\n",
    "\n",
    "results = []\n",
    "\n",
    "for p in range(0, 543):\n",
    "    new_url = recursive_url+str(p)\n",
    "    html = decision_number_html_extractor(new_url)\n",
    "    splitter(html, results)"
   ]
  },
  {
   "cell_type": "code",
   "execution_count": 4,
   "metadata": {
    "scrolled": true
   },
   "outputs": [],
   "source": [
    "base_url_input = \"https://www.gao.gov/products/\"\n",
    "\n",
    "aggregate_results = {}\n",
    "\n",
    "for d in range(0, len(results)):\n",
    "    url = new_url_generator(base_url_input, results[d])\n",
    "    response = requests.get(url)\n",
    "    html = BeautifulSoup(response.text, \"html.parser\")\n",
    "    status = html.find(\"div\", class_ = \"status highlighted-status\")\n",
    "    highlights = html.find_all(\"div\", class_ = \"clearfix text-formatted field field--name-product-highlights-custom field--type-text-long field--label-above quickedit-field\")\n",
    "    document = html.find_all(\"div\", class_ = \"js-endpoint-view-decision field field--name-field-html-block field--type-text-long field--label-above\")\n",
    "    protest_dict = {'result_no' : str(results[d]), 'status' : str(status), 'highlights' : str(highlights), \"document\": str(document), \"url\": url}\n",
    "    aggregate_results[d] = protest_dict"
   ]
  },
  {
   "cell_type": "code",
   "execution_count": 217,
   "metadata": {
    "scrolled": false
   },
   "outputs": [],
   "source": [
    "firm_patterns = [\"Matter of:\\xa0</strong> \", \"</p>\\n<p><strong>File:\"]\n",
    "date_patterns = [\"\\n<p><strong>Date:</strong>\\xa0 \", \"</p>\\n<div>\\n<p>\"]\n",
    "decision_paragraph_patterns = [\"<div>\\n<p>DECISION</p>\\n</div>\\n<p>\" , \"</p>\"]\n",
    "potential_d_patterns = [\"<div>\\n<p>DECISION</p>\\n</div>\\n<p>\", \n",
    "                        \"<div>\\n<p><strong>DECISION</strong></p>\\n</div>\\n<p>\", \n",
    "                        \"<div><strong>DECISION</strong></div>\",\n",
    "                       \"<p><strong>DECISION</strong></p>\",\n",
    "                       \"</p>\\n<p>DECISION</p>\\n<p>\",\n",
    "                       \"</p>\\n<p>\\n\\tDECISION</p>\\n<p>\",\n",
    "                       \"<p>\\n\\t\\t\\tDECISION</p>\\n<p>\",\n",
    "                       \"\\n<div>\\n<p>\\n\\t\\t\\tDECISION</p>\\n</div>\\n<p>\\n\\t\\t\",\n",
    "                       \"<p>\\n<strong>DECISION</strong></p>\\n<p>\\n\\t\\t\",\n",
    "                       \"<p>\\n<strong>DECISION</strong></p>\\n<p>\\n\\t\",\n",
    "                        \"<p>\\n<strong>DECISION\\xa0 </strong></p>\\n</div>\\n<p>\\n\\t\\t\",\n",
    "                       \"<div>\\n<p>\\n<strong>DECISION</strong></p>\\n</div>\\n<p>\\n\\t\\t\",\n",
    "                       \"<p>\\n\\t\\t\\tDECISION\\xa0</p>\\n</div>\\n<p>\\n\\t\\t\",\n",
    "                       \"<p>\\n\\t\\tDECISION</p>\\n</div>\\n<p>\\n\\t\",\n",
    "                       \"<p>DECISION</p>\\n<p>\",\n",
    "                       \"<p>\\n\\t\\tDECISION</p>\\n<p>\\n\\t\\t\",\n",
    "                        \"<p>\\n\\t\\t\\tDECISION</p>\\n</div>\\n<p>\\n\\t\\t\",\n",
    "                       \"<p>\\n<strong>DECISION</strong></p>\\n</div>\\n<p>\\n\\t\",\n",
    "                        \"DECISION</p>\\n</div>\\n<p class=\\\"MsoBodyText\\\">\\n\\t\\t\",\n",
    "                        \"DECISION</p>\\n</div>\\n<p class=\\\"MsoNormal\\\">\\n\\t\\t\",\n",
    "                        \"DECISION</strong></p>\\n</div>\\n<p class=\\\"MsoNormal\\\">\\n\\t\\t\",\n",
    "                       \"DECISION</p>\\n</div>\\n<p>\\n\\t\\t\",\n",
    "                       \"DECISION</p>\\n</div>\\n<p class=\\\"Date\\\">\\n\\t\\t\",\n",
    "                       \"DECISION</strong></p>\\n<p class=\\\"MsoNormal\\\">\\n\\t\\t\\t\",\n",
    "                       \"DECISION</p>\\n</div>\\n<p class=\\\"MatterOf\\\">\\n\\t\\t\",\n",
    "                       \"DECISION</p>\\n</div>\\n<p class=\\\"MsoBodyText\\\">\\n\\t\",\n",
    "                       \"DECISION</p>\\n</div>\\n<p class=\\\"Default\\\">\\n\\t\\t\",\n",
    "                       \"DECISION</p>\\n</div>\\n<p class=\\\"Decision1\\\">\\n\\t\\t\",\n",
    "                       \"DECISION</p>\\n<p class=\\\"Decision1\\\">\\n\\t\\t\\t\",\n",
    "                       \"DECISION</strong></p>\\n<p class=\\\"MsoBodyText\\\">\\n\\t\\t\",\n",
    "                        \"DECISION</p>\\n</div>\\n<p class=\\\"matterof0\\\">\\n\\t\\t\",\n",
    "                       \"DECISION</p>\\n</div>\\n<p class=\\\"MsoBodyText\\\">\\n\\t\\t\"]\n",
    "\n",
    "status_patterns = ['<div class=\"status highlighted-status\">\\n', '.\\n      </div>']"
   ]
  },
  {
   "cell_type": "code",
   "execution_count": 223,
   "metadata": {
    "scrolled": true
   },
   "outputs": [
    {
     "ename": "IndexError",
     "evalue": "list index out of range",
     "output_type": "error",
     "traceback": [
      "\u001b[1;31m---------------------------------------------------------------------------\u001b[0m",
      "\u001b[1;31mIndexError\u001b[0m                                Traceback (most recent call last)",
      "\u001b[1;32m<ipython-input-223-e8f5a1786021>\u001b[0m in \u001b[0;36m<module>\u001b[1;34m\u001b[0m\n\u001b[0;32m      6\u001b[0m     \u001b[0mstatus\u001b[0m \u001b[1;33m=\u001b[0m \u001b[0mstatus_extractor\u001b[0m\u001b[1;33m(\u001b[0m\u001b[0maggregate_results\u001b[0m\u001b[1;33m[\u001b[0m\u001b[0md\u001b[0m\u001b[1;33m]\u001b[0m\u001b[1;33m[\u001b[0m\u001b[1;34m'status'\u001b[0m\u001b[1;33m]\u001b[0m\u001b[1;33m,\u001b[0m \u001b[0mstatus_patterns\u001b[0m\u001b[1;33m)\u001b[0m\u001b[1;33m\u001b[0m\u001b[1;33m\u001b[0m\u001b[0m\n\u001b[0;32m      7\u001b[0m     \u001b[0mdecision_paragraph\u001b[0m \u001b[1;33m=\u001b[0m \u001b[0mdecision_extractor\u001b[0m\u001b[1;33m(\u001b[0m\u001b[0maggregate_results\u001b[0m\u001b[1;33m[\u001b[0m\u001b[0md\u001b[0m\u001b[1;33m]\u001b[0m\u001b[1;33m[\u001b[0m\u001b[1;34m'document'\u001b[0m\u001b[1;33m]\u001b[0m\u001b[1;33m,\u001b[0m \u001b[0mpotential_d_patterns\u001b[0m\u001b[1;33m,\u001b[0m \u001b[0mdecision_paragraph_patterns\u001b[0m\u001b[1;33m)\u001b[0m\u001b[1;33m\u001b[0m\u001b[1;33m\u001b[0m\u001b[0m\n\u001b[1;32m----> 8\u001b[1;33m     \u001b[0mhighlights\u001b[0m \u001b[1;33m=\u001b[0m \u001b[0mhighlight_extractor\u001b[0m\u001b[1;33m(\u001b[0m\u001b[0maggregate_results\u001b[0m\u001b[1;33m[\u001b[0m\u001b[0md\u001b[0m\u001b[1;33m]\u001b[0m\u001b[1;33m[\u001b[0m\u001b[1;34m'highlights'\u001b[0m\u001b[1;33m]\u001b[0m\u001b[1;33m)\u001b[0m\u001b[1;33m\u001b[0m\u001b[1;33m\u001b[0m\u001b[0m\n\u001b[0m\u001b[0;32m      9\u001b[0m     \u001b[0mseries\u001b[0m \u001b[1;33m=\u001b[0m \u001b[1;33m{\u001b[0m\u001b[1;34m\"Firm\"\u001b[0m \u001b[1;33m:\u001b[0m\u001b[0mstr\u001b[0m\u001b[1;33m(\u001b[0m\u001b[0mfirm\u001b[0m\u001b[1;33m)\u001b[0m\u001b[1;33m,\u001b[0m \u001b[1;34m\"Date\"\u001b[0m \u001b[1;33m:\u001b[0m \u001b[0mstr\u001b[0m\u001b[1;33m(\u001b[0m\u001b[0mdate\u001b[0m\u001b[1;33m)\u001b[0m\u001b[1;33m,\u001b[0m \u001b[1;34m\"Status\"\u001b[0m \u001b[1;33m:\u001b[0m \u001b[0mstr\u001b[0m\u001b[1;33m(\u001b[0m\u001b[0mstatus\u001b[0m\u001b[1;33m)\u001b[0m\u001b[1;33m,\u001b[0m \u001b[1;34m\"Decision_Paragraph\"\u001b[0m \u001b[1;33m:\u001b[0m \u001b[0mstr\u001b[0m\u001b[1;33m(\u001b[0m\u001b[0mdecision_paragraph\u001b[0m\u001b[1;33m)\u001b[0m\u001b[1;33m,\u001b[0m \u001b[1;34m\"Highlights_Paragraph\"\u001b[0m \u001b[1;33m:\u001b[0m \u001b[0mstr\u001b[0m\u001b[1;33m(\u001b[0m\u001b[0mhighlights\u001b[0m\u001b[1;33m)\u001b[0m\u001b[1;33m,\u001b[0m \u001b[1;34m\"URL\"\u001b[0m \u001b[1;33m:\u001b[0m \u001b[0maggregate_results\u001b[0m\u001b[1;33m[\u001b[0m\u001b[0md\u001b[0m\u001b[1;33m]\u001b[0m\u001b[1;33m[\u001b[0m\u001b[1;34m'url'\u001b[0m\u001b[1;33m]\u001b[0m\u001b[1;33m}\u001b[0m\u001b[1;33m\u001b[0m\u001b[1;33m\u001b[0m\u001b[0m\n\u001b[0;32m     10\u001b[0m     \u001b[0mgood_df\u001b[0m \u001b[1;33m=\u001b[0m \u001b[0mgood_df\u001b[0m\u001b[1;33m.\u001b[0m\u001b[0mappend\u001b[0m\u001b[1;33m(\u001b[0m\u001b[0mseries\u001b[0m\u001b[1;33m,\u001b[0m \u001b[0mignore_index\u001b[0m \u001b[1;33m=\u001b[0m \u001b[1;32mTrue\u001b[0m\u001b[1;33m)\u001b[0m\u001b[1;33m\u001b[0m\u001b[1;33m\u001b[0m\u001b[0m\n",
      "\u001b[1;32m<ipython-input-222-338d4cb56bc6>\u001b[0m in \u001b[0;36mhighlight_extractor\u001b[1;34m(x)\u001b[0m\n\u001b[0;32m     54\u001b[0m     \u001b[0mitem_found\u001b[0m \u001b[1;33m=\u001b[0m \u001b[0mnew_string\u001b[0m\u001b[1;33m.\u001b[0m\u001b[0mfind\u001b[0m\u001b[1;33m(\u001b[0m\u001b[1;34m\"Highlights\"\u001b[0m\u001b[1;33m,\u001b[0m \u001b[1;36m1\u001b[0m\u001b[1;33m)\u001b[0m\u001b[1;33m\u001b[0m\u001b[1;33m\u001b[0m\u001b[0m\n\u001b[0;32m     55\u001b[0m     \u001b[1;32mif\u001b[0m \u001b[0mitem_found\u001b[0m \u001b[1;33m!=\u001b[0m \u001b[1;33m-\u001b[0m\u001b[1;36m1\u001b[0m\u001b[1;33m:\u001b[0m\u001b[1;33m\u001b[0m\u001b[1;33m\u001b[0m\u001b[0m\n\u001b[1;32m---> 56\u001b[1;33m         \u001b[0mfirst_pass\u001b[0m \u001b[1;33m=\u001b[0m \u001b[0mnew_string\u001b[0m\u001b[1;33m.\u001b[0m\u001b[0msplit\u001b[0m\u001b[1;33m(\u001b[0m\u001b[1;34m\"<html><body><p\"\u001b[0m\u001b[1;33m,\u001b[0m \u001b[1;36m1\u001b[0m\u001b[1;33m)\u001b[0m\u001b[1;33m[\u001b[0m\u001b[1;36m1\u001b[0m\u001b[1;33m]\u001b[0m\u001b[1;33m\u001b[0m\u001b[1;33m\u001b[0m\u001b[0m\n\u001b[0m\u001b[0;32m     57\u001b[0m         \u001b[0msecond_pass\u001b[0m \u001b[1;33m=\u001b[0m \u001b[0mfirst_pass\u001b[0m\u001b[1;33m.\u001b[0m\u001b[0msplit\u001b[0m\u001b[1;33m(\u001b[0m\u001b[1;34m\"</p>\\n</body></html>\"\u001b[0m\u001b[1;33m,\u001b[0m \u001b[1;36m1\u001b[0m\u001b[1;33m)\u001b[0m\u001b[1;33m[\u001b[0m\u001b[1;36m0\u001b[0m\u001b[1;33m]\u001b[0m\u001b[1;33m\u001b[0m\u001b[1;33m\u001b[0m\u001b[0m\n\u001b[0;32m     58\u001b[0m         \u001b[1;32mreturn\u001b[0m\u001b[1;33m(\u001b[0m\u001b[0msecond_pass\u001b[0m\u001b[1;33m)\u001b[0m\u001b[1;33m\u001b[0m\u001b[1;33m\u001b[0m\u001b[0m\n",
      "\u001b[1;31mIndexError\u001b[0m: list index out of range"
     ]
    }
   ],
   "source": [
    "good_df = pd.DataFrame()\n",
    "\n",
    "for d in range(0, len(results)):\n",
    "    firm = firm_name_extractor(aggregate_results[d]['document'], firm_patterns)\n",
    "    date = date_extractor(aggregate_results[d]['document'], date_patterns)\n",
    "    status = status_extractor(aggregate_results[d]['status'], status_patterns)\n",
    "    decision_paragraph = decision_extractor(aggregate_results[d]['document'], potential_d_patterns, decision_paragraph_patterns)\n",
    "    highlights = highlight_extractor(aggregate_results[d]['highlights'])\n",
    "    series = {\"Firm\" :str(firm), \"Date\" : str(date), \"Status\" : str(status), \"Decision_Paragraph\" : str(decision_paragraph), \"Highlights_Paragraph\" : str(highlights), \"URL\" : aggregate_results[d]['url']}\n",
    "    good_df = good_df.append(series, ignore_index = True)"
   ]
  },
  {
   "cell_type": "code",
   "execution_count": 226,
   "metadata": {
    "scrolled": false
   },
   "outputs": [
    {
     "name": "stdout",
     "output_type": "stream",
     "text": [
      "2327\n"
     ]
    }
   ],
   "source": [
    "print(good_df.shape[0])\n",
    "\n",
    "good_df.to_csv(\"Output_new.csv\")"
   ]
  },
  {
   "cell_type": "code",
   "execution_count": 228,
   "metadata": {},
   "outputs": [
    {
     "data": {
      "text/plain": [
       "'[<div class=\"js-endpoint-view-decision field field--name-field-html-block field--type-text-long field--label-above\">\\n<header class=\"field__label\">View Decision</header>\\n<div class=\"field-items-wrapper\">\\n<div class=\"field__item\"><p>\\n\\tDOCUMENT FOR PUBLIC RELEASE<br/>\\n\\tThe decision issued on the date below was subject to a GAO Protective Order. This version has been approved for public release.</p>\\n<div>\\n<p>\\n<strong>Decision</strong></p>\\n<p>\\n<strong>Matter of:\\xa0</strong> AOC Connect, LLC -- Reconsideration</p>\\n<p>\\n<strong>File:\\xa0</strong> B-416658.3</p>\\n<p>\\n<strong>Date:</strong>\\xa0 February 12, 2019</p>\\n<div>\\n<p>\\n\\t\\t\\tDavid B. Dempsey, Esq., Dempsey Fontana, PLLC, for the protester.<br/>\\n\\t\\t\\tMeredith Skowronski, Esq., Library of Congress, for the agency.<br/>\\n\\t\\t\\tHeather Self, Esq., and Edward Goldstein, Esq., Office of the General Counsel, GAO, participated in the preparation of the decision.</p>\\n</div>\\n<p>\\n\\t\\tDIGEST</p>\\n<p>\\n\\t\\tRequest for reconsideration of dismissal of protest issue as untimely is denied where the allegation concerned a defect in the terms of the solicitation, notwithstanding the protester’s efforts to characterize its allegation as a challenge to the agency’s evaluation of the awardee’s proposal.</p>\\n<div>\\n<p>\\n\\t\\t\\tDECISION</p>\\n</div>\\n<p>\\n\\t\\tAOC Connect, LLC, a small business of Chantilly, Virginia, requests reconsideration of a portion of our decision in AOC Connect, LLC, B-416658, B-416558.2, Nov. 8, 2018, 2018 CPD ¶ 384, in which we sustained AOC’s challenge to the Library of Congress’ evaluation of the awardee’s staffing under request for proposals (RFP) No. 030ADV-18-R-0186, but dismissed as untimely AOC’s challenge to the Library’s evaluation of the awardee’s proposed technology solution as technically acceptable.\\xa0 In our decision we concluded that the protest essentially raised a challenge to the terms of the solicitation, which should have been raised prior to the due date for submission of proposals, because the agency put offerors on notice, through a solicitation amendment, that it was willing to accept the technology solution proposed by the awardee.\\xa0 In its request for reconsideration, AOC contends that its protest was timely because it was in fact a challenge to the agency evaluation of the awardee’s technical solicitation and not a challenge to the terms of the solicitation.</p>\\n<p>\\n\\t\\tWe deny the request for reconsideration.</p>\\n<p>\\n\\t\\tThe RFP sought commercial item long-haul telecommunications network connectivity between a new computing facility and three existing Library data centers.\\xa0 As originally issued, the RFP required offerors to provide dark fiber, dense wavelength division multiplexing connectivity.\\xa0 Agency Report (AR), Tab 1, RFP at 8.\\xa0 The Library issued multiple amendments to the RFP responding to offeror questions and significantly changing the requirements.\\xa0 As relevant here, the agency issued amendment 4, which included the following question and answer response:</p>\\n<p>\\n\\t\\tQ2. \\xa0Will the Library please accept the use of [optical transport unit-4 (OTU-4)] fiber for this proposal?</p>\\n<p>\\n\\t\\tA2. \\xa0Library Response: Yes the Library will accept a proposal for an OTU-4 fiber connection.\\xa0 We would however like to see the whole proposed architecture that is proposed in conjunction with an OTU-4 fiber connection and whether bridging would also be possible as part of the proposed solution.</p>\\n<p>\\n\\t\\tAR, Tab 2.e., RFP amend. 4, at 2.</p>\\n<p>\\n\\t\\tThe Library received three proposals, to include proposals from AOC and CenturyLink (the awardee).\\xa0 Contracting Officer’s Statement at 4.\\xa0 CenturyLink’s proposed technical solution involved use of OTU-4 fiber, which was the subject of the question and answer (Q&amp;A) exchange noted above.\\xa0 The Library evaluated CenturyLink’s proposal as technically acceptable and selected it for contract award.\\xa0 AR, Tab 8.d., Contract Award Determination, at 4-5 and 7.\\xa0 AOC protested the award decision, asserting, among other things, that the Library erred in finding CenturyLink’s proposal technically acceptable.\\xa0 AOC argued there were “six specific Solicitation requirements that an OTU-4 frame solution does not and cannot meet.”\\xa0 Protester’s Comments &amp; Supp. Protest at 5.\\xa0</p>\\n<p>\\n\\t\\tAlthough we sustained AOC’s protest based on the agency’s evaluation of the awardee’s proposal under the solicitation’s staffing evaluation factor, we dismissed AOC’s argument challenging the acceptability of CenturyLink’s use of OTU-4 fiber, finding that it raised an untimely challenge to the Library’s response set forth under amendment 4 to the solicitation, expressly permitting an OTU-4 fiber solution.\\xa0 AOC Connect, LLC, supra, at 5.\\xa0 To the extent AOC believed that RFP Amendment No. 4 created an inconsistency with other aspects of the solicitation’s requirements, AOC was required to protest the inconsistency prior to the date for receipt of proposals.\\xa0 Id.\\xa0 In this regard, a patent ambiguity exists where a solicitation contains an obvious, gross, or glaring error (e.g., where solicitation provisions appear inconsistent on their face).\\xa0 Umicore Optical Materials USA, Inc., B-415546, B-415546.2, Jan. 19, 2018, 2018 CPD ¶ 89 at 7.\\xa0 A patent ambiguity must be protested prior to the next closing time for the submission of proposals in order to be considered timely.\\xa0 Bid Protest Regulations, 4 C.F.R. §\\xa021.2(a)(1); see e.g., Pitney Bowes, Inc., B-294868, B-294868.2, Jan. 4, 2005, 2005 CPD ¶ 10 at 5.\\xa0 Because AOC knew the Library was willing to accept an OTU-4 solution prior to receipt of proposals, its post-award protest challenging the Library’s acceptance of CenturyLink’s OTU-4 solution was dismissed as untimely filed.</p>\\n<p>\\n\\t\\tIn its request for reconsideration, AOC contends we misunderstood its protest and “incorrectly concluded that AOC’s protest focused on the RFP specifications,” when instead it “was focused on [the Library’s] improper evaluation of CenturyLink’s initial and ‘final’ technical proposal.”\\xa0 Request for Recon. at 2.\\xa0 In essence, the protester contends we incorrectly construed its protest argument to be that no OTU-4 solution could be technically acceptable, when it actually was arguing that CenturyLink’s particular OTU-4 solution was technically unacceptable.\\xa0 \\xa0</p>\\n<p>\\n\\t\\tUnder our Bid Protest Regulations, to prevail on a request for reconsideration the requesting party must show either that our decision contains errors of fact or law, or present information not considered previously that warrants the decision’s reversal or modification.\\xa0 4 C.F.R. § 21.14(a).\\xa0 The repetition of arguments made during our consideration of the original protest and disagreement with our decision do not meet this standard.\\xa0 Epsilon Sys. Solutions, Inc.--Recon., B-414410.3, Sept. 20, 2017, 2017 CPD ¶ 292 at 3.\\xa0</p>\\n<p>\\n\\t\\tHere, given the arguments advanced by AOC in its protest, we reject AOC’s assertion that our Office misread or mischaracterized its protest.\\xa0 Throughout its protest, AOC alleged that no solution utilizing OTU-4 fiber was capable of meeting the requirements of the solicitation.\\xa0 AOC asserted and submitted an expert report in support of its argument that “an OTU-4 solution is technically unable to meet the [Library’s] requirements specified in the Solicitation.”\\xa0 Protester’s Comments &amp; Supp. Protest, attach. 1, Expert Report, at 7.\\xa0 AOC argued the Library’s evaluation was an attempt to “manipulate the laws of physics” because “[t]here are at least six material requirements discussed in AOC’s expert report which explain how and why the scientific laws of optic fiber preclude OTU-4 circuits from meeting those requirements.”\\xa0 Protester’s Supp. Comments at 1, 3.\\xa0 The report submitted by AOC’s expert discussed OTU-4 technology in general.\\xa0 There was no discussion of CenturyLink’s particular proposed solution.\\xa0 See Protester’s Comments &amp; Supp. Protest, attach. 1, Expert Report.\\xa0 Moreover, in its comments on the agency’s report, AOC explained it was arguing “that an OTU-4 solution is physically unable to perform at least six of the RFP’s material requirements.”\\xa0 Protester’s Supp. at 3.\\xa0</p>\\n<p>\\n\\t\\tGiven that the arguments advanced by AOC pertained to the viability of any OTU-4 solution, yet the agency’s Q&amp;A response under amendment 4<a href=\"#_ftn1\" id=\"_ftnref1\" name=\"_ftnref1\">[1]</a> expressly provided that offerors could propose an OTU‑4 fiber solution, our Office properly understood AOC’s protest to present a challenge to the terms of the solicitation.\\xa0 The challenge was untimely because AOC did not raise the issue prior to the due date for proposals as contemplated by our regulations.\\xa0 4 C.F.R. § 21.2(a)(1);\\xa0 \\xa0AOC Connect, supra, at 5.\\xa0 AOC’s attempt to recast its original protest arguments does not meet our standard for reconsideration.\\xa0 See Jaco Management, Inc.--Recon., B-246156.2, Jan. 3, 1992, 92-1 CPD ¶ 23; Cal Pacific Fabricating, Inc.--Recon., B-214946.2, June 28, 1984, 84-1 CPD ¶ 689.</p>\\n<p>\\n\\t\\tThe request for reconsideration is denied.</p>\\n<p>\\n\\t\\tThomas H. Armstrong<br/>\\n\\t\\tGeneral Counsel</p>\\n</div>\\n<div>\\n<br/><hr/><div>\\n<p>\\n<a href=\"#_ftnref1\" id=\"_ftn1\" name=\"_ftn1\">[1]</a> AOC argues, as it did in its original protest, that the Q&amp;A in which the Library advised offerors that it would accept an OTU-4 solution did not constitute an amendment to the solicitation since amendment 4 was not acknowledged by the offerors and therefore not binding.\\xa0 Absent a formal acknowledged amendment, AOC argues it had no reason to challenge the agency’s response set forth in the Q&amp;A.\\xa0 Request for Recon. at 2; Protester’s Supp. Comments at 3 n.4.\\xa0 Although we did not expressly address this argument in our written decision on the original protest, we did consider it and found it provided no basis to sustain the protest.\\xa0 Our Office reviews all issues raised by protesters, though our decisions may not necessarily address every issue raised consistent with our mandate to provide for the “inexpensive and expeditious resolution of protests.”\\xa0 See Epsilon Sys., supra, at 3 (citing 31 U.S.C. § 3554(a)(1)).\\xa0 In any event, information provided by the contracting officer to all offerors as part of a Q&amp;A document regarding the solicitation can be deemed a de facto amendment.\\xa0 Audio Visual Concepts, Inc., B-227166, July 24, 1987, 87-2 CPD ¶ 86 at 2.\\xa0 AOC’s repetition of this argument from its original protest fails to show an error of fact or law or present information not previously considered that warrants reversal or modification of our prior decision.\\xa0 4 C.F.R. § 21.14(a); Epsilon Sys., supra, at 3.</p>\\n</div>\\n</div></div>\\n</div>\\n</div>]'"
      ]
     },
     "execution_count": 228,
     "metadata": {},
     "output_type": "execute_result"
    }
   ],
   "source": [
    "aggregate_results[345]['document']"
   ]
  },
  {
   "cell_type": "code",
   "execution_count": 8,
   "metadata": {},
   "outputs": [],
   "source": [
    "import json\n",
    "\n",
    "with open(\"aggregate_results.json\", \"w\") as fp:\n",
    "    json.dump(aggregate_results, fp)"
   ]
  }
 ],
 "metadata": {
  "kernelspec": {
   "display_name": "Python 3",
   "language": "python",
   "name": "python3"
  },
  "language_info": {
   "codemirror_mode": {
    "name": "ipython",
    "version": 3
   },
   "file_extension": ".py",
   "mimetype": "text/x-python",
   "name": "python",
   "nbconvert_exporter": "python",
   "pygments_lexer": "ipython3",
   "version": "3.7.3"
  }
 },
 "nbformat": 4,
 "nbformat_minor": 2
}
