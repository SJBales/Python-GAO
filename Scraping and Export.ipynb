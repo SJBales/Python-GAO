{
 "cells": [
  {
   "cell_type": "code",
   "execution_count": null,
   "metadata": {},
   "outputs": [],
   "source": [
    "from bs4 import BeautifulSoup\n",
    "import requests"
   ]
  },
  {
   "cell_type": "code",
   "execution_count": null,
   "metadata": {},
   "outputs": [],
   "source": [
    "# Extract and parse HTML\n",
    "\n",
    "def decision_number_html_extractor(url):\n",
    "    # Extracts the HTML with the decision numbers\n",
    "    response = requests.get(url)\n",
    "    html = BeautifulSoup(response.text, \"html.parser\")\n",
    "    details = html.find_all(\"div\", class_=\"field field--name-field-product-number field--type-string field--label-hidden field__item\")\n",
    "    return(details)\n",
    "    \n",
    "def html_splitter(html_output, results):\n",
    "    # Splits the decision number out of the HTML\n",
    "    html_ouput = html_output\n",
    "    \n",
    "    for i in range(0, len(html_output)):\n",
    "        output_string = str(html_ouput[i])\n",
    "        step1 = output_string.split(\">\",1)[1]\n",
    "        step2 = step1.split(\"</div>\",1)[0]\n",
    "        results.append(step2)\n",
    "    \n",
    "    return(results)\n",
    "\n",
    "def new_url_generator(base_url, decision_no):\n",
    "    # Creates a new URL with decision numbers\n",
    "    new_list = str(decision_no).split(\",\")\n",
    "    addition = \"%2C\".join(new_list).lower()\n",
    "    new_url = base_url + addition\n",
    "    return(new_url)"
   ]
  },
  {
   "cell_type": "code",
   "execution_count": null,
   "metadata": {},
   "outputs": [],
   "source": [
    "recursive_url = \"https://www.gao.gov/search?f%5B0%5D=content_type%3ABid%20Protest%20Decision&f%5B1%5D=date%3Astart%2B2000-01-01%2Bend%2B2020-01-01&sort_by=docdate&sort_order=DESC&keyword=&f%5B0%5D=content_type%3ABid%20Protest%20Decision&f%5B1%5D=date%3Astart%2B2000-01-01%2Bend%2B2020-01-01&page=\"\n",
    "\n",
    "results = []\n",
    "\n",
    "for p in range(0, 543):\n",
    "    new_url = recursive_url+str(p)\n",
    "    html = decision_number_html_extractor(new_url)\n",
    "    html_splitter(html, results)"
   ]
  },
  {
   "cell_type": "code",
   "execution_count": null,
   "metadata": {},
   "outputs": [],
   "source": [
    "base_url_input = \"https://www.gao.gov/products/\"\n",
    "\n",
    "aggregate_results = {}\n",
    "\n",
    "for d in range(0, len(results)):\n",
    "    url = new_url_generator(base_url_input, results[d])\n",
    "    response = requests.get(url)\n",
    "    html = BeautifulSoup(response.text, \"html.parser\")\n",
    "    status = html.find(\"div\", class_ = \"status highlighted-status\")\n",
    "    highlights = html.find_all(\"div\", class_ = \"clearfix text-formatted field field--name-product-highlights-custom field--type-text-long field--label-above quickedit-field\")\n",
    "    document = html.find_all(\"div\", class_ = \"js-endpoint-view-decision field field--name-field-html-block field--type-text-long field--label-above\")\n",
    "    protest_dict = {'result_no' : str(results[d]), 'status' : str(status), 'highlights' : str(highlights), \"document\": str(document), \"url\": url}\n",
    "    aggregate_results[d] = protest_dict"
   ]
  }
 ],
 "metadata": {
  "kernelspec": {
   "display_name": "Python 3",
   "language": "python",
   "name": "python3"
  },
  "language_info": {
   "codemirror_mode": {
    "name": "ipython",
    "version": 3
   },
   "file_extension": ".py",
   "mimetype": "text/x-python",
   "name": "python",
   "nbconvert_exporter": "python",
   "pygments_lexer": "ipython3",
   "version": "3.7.3"
  }
 },
 "nbformat": 4,
 "nbformat_minor": 2
}
